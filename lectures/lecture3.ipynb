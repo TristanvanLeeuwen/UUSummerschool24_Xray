{
 "cells": [
  {
   "cell_type": "markdown",
   "metadata": {
    "slideshow": {
     "slide_type": "slide"
    }
   },
   "source": [
    "# Part 3 - Algebraic reconstruction methods"
   ]
  },
  {
   "cell_type": "markdown",
   "metadata": {
    "slideshow": {
     "slide_type": "slide"
    }
   },
   "source": [
    "So far, we have seen 2 image reconstruction methods:\n",
    "\n",
    "* Fourier reconstruction\n",
    "* Filtered back projection\n",
    "\n",
    "These may not perform optimally when the sinogram is undersampled or noisy. We therefore consider an alternative, which attempts to solve the system of equations explicitly."
   ]
  },
  {
   "cell_type": "markdown",
   "metadata": {
    "slideshow": {
     "slide_type": "slide"
    }
   },
   "source": [
    "# Overview\n",
    "\n",
    "* Richardson iteration\n",
    "* Row-action methods\n",
    "* Assignments"
   ]
  },
  {
   "cell_type": "markdown",
   "metadata": {
    "slideshow": {
     "slide_type": "slide"
    }
   },
   "source": [
    "# Richardson iteration\n",
    "\n",
    "We can attempt to solve a linear system of equations\n",
    "\n",
    "$$Ku = f,$$\n",
    "\n",
    "using the Richardon iteration\n",
    "\n",
    "$$u^{(k+1)} = u^{(k)} - \\alpha K^T(Ku^{(k)} - f).$$"
   ]
  },
  {
   "cell_type": "markdown",
   "metadata": {
    "slideshow": {
     "slide_type": "subslide"
    }
   },
   "source": [
    "When $u^{(0)} = 0$ and $0 < \\alpha < 2/\\|K\\|^2$ it converges to the minimum-norm solution of the normal equations\n",
    "\n",
    "$$K^T\\!Ku = K^Tf.$$"
   ]
  },
  {
   "cell_type": "code",
   "execution_count": 1,
   "metadata": {
    "slideshow": {
     "slide_type": "skip"
    }
   },
   "outputs": [],
   "source": [
    "import numpy as np\n",
    "import matplotlib.pyplot as plt\n",
    "\n",
    "def ray(n, s, theta):\n",
    "    \"\"\"\n",
    "    Trace ray:\n",
    "        x(t) =  t*sin(theta) + s*cos(theta)\n",
    "        y(t) = -t*cos(theta) + s*sin(theta)\n",
    "    through volume [-1,1]^2, discretised with n x n pixels.\n",
    "    \n",
    "    Returns linear indices of intersected pixels and corresponding intersection lengths\n",
    "    \"\"\"\n",
    "    \n",
    "    # define boundaries of pixels\n",
    "    h = 2/n\n",
    "    x = -1 + np.linspace(0,n,n+1)*h\n",
    "    y = -1 + np.linspace(0,n,n+1)*h\n",
    "    \n",
    "    # compute all intersections with horizontal and vertical grid lines\n",
    "    # in terms of path length parameter t\n",
    "    t = []\n",
    "    if np.abs(np.sin(theta)) > 0:\n",
    "        tx = (x - s*np.cos(theta))/np.sin(theta)\n",
    "        t = np.concatenate((t,tx))\n",
    "    if np.abs(np.cos(theta)) > 0 :\n",
    "        ty = -(y - s*np.sin(theta))/np.cos(theta)\n",
    "        t = np.concatenate((t,ty))\n",
    "    \n",
    "    # sort t in increasing order\n",
    "    t = np.sort(t[np.isfinite(t)])\n",
    "    \n",
    "    # now trace the ray and store pixel-indices and path lengths\n",
    "    nt = len(t)\n",
    "    I = []\n",
    "    w = []\n",
    "    for i in range(nt-1):\n",
    "        # entry point of ray\n",
    "        x1 = t[i]*np.sin(theta) + s*np.cos(theta)\n",
    "        y1 = -t[i]*np.cos(theta) + s*np.sin(theta)\n",
    "        \n",
    "        # exit point of ray\n",
    "        x2 = t[i+1]*np.sin(theta) + s*np.cos(theta)\n",
    "        y2 = -t[i+1]*np.cos(theta) + s*np.sin(theta)\n",
    "        \n",
    "        # pixel indices\n",
    "        ix = int(((x1 + x2)/2+1)//h)\n",
    "        iy = int(((y1 + y2)/2+1)//h)\n",
    "        \n",
    "        # only take pixels in volume [-1,1]^2 in to account\n",
    "        if (0 <= ix < n) and (0 <= iy < n):\n",
    "            I.append(int(iy*n + ix))\n",
    "            w.append(t[i+1] - t[i])\n",
    "        \n",
    "    return I,w\n",
    "\n",
    "def Radon(u, n, s, theta):\n",
    "    \n",
    "    ns = len(s)\n",
    "    nt = len(theta)\n",
    "    # \n",
    "    f = np.zeros(ns*nt)\n",
    "    \n",
    "    for i in range(nt):\n",
    "        for j in range(ns):\n",
    "            J,w = ray(n, s[j],theta[i])\n",
    "            f[i*ns + j] = np.array(w).dot(u[J])\n",
    "    return f\n",
    "\n",
    "def RadonTranspose(f, n, s, theta):\n",
    "    \n",
    "    ns = len(s)\n",
    "    nt = len(theta)\n",
    "    # \n",
    "    u = np.zeros(n*n)\n",
    "    \n",
    "    for i in range(nt):\n",
    "        for j in range(ns):\n",
    "            J,w = ray(n, s[j],theta[i])\n",
    "            u[J] += np.array(w)*f[i*ns + j]\n",
    "    return u"
   ]
  },
  {
   "cell_type": "code",
   "execution_count": 4,
   "metadata": {
    "slideshow": {
     "slide_type": "skip"
    }
   },
   "outputs": [],
   "source": [
    "# parameters\n",
    "nx = 26\n",
    "na = 26\n",
    "h = 2/nx\n",
    "s = np.linspace(-1+h/2,1-h/2,nx)\n",
    "theta = np.linspace(0,np.pi,na)\n",
    "sigma = 0.1\n",
    "niter = 100\n",
    "alpha = .5\n",
    "\n",
    "# Phantom\n",
    "u = np.zeros((nx,nx))\n",
    "u[nx//2-nx//6:2*nx//3+nx//7, nx//2-nx//8:2*nx//3+nx//8] = 1\n",
    "u = u.ravel()\n",
    "\n",
    "# Noisy data\n",
    "f = Radon(u, nx, s, theta)\n",
    "f_noisy = f + sigma * np.random.randn(len(f))\n",
    "\n",
    "#  Richardson\n",
    "r = np.zeros(niter)\n",
    "e = np.zeros(niter)\n",
    "u_rec = np.zeros(nx*nx)\n",
    "for i in range(niter):\n",
    "    res = Radon(u_rec, nx, s, theta) - f_noisy\n",
    "    du  = RadonTranspose(res, nx, s, theta)\n",
    "    u_rec -= alpha*du\n",
    "    \n",
    "    r[i] = np.linalg.norm(res)/np.linalg.norm(f_noisy)\n",
    "    e[i] = np.linalg.norm(u_rec - u)/np.linalg.norm(u)"
   ]
  },
  {
   "cell_type": "code",
   "execution_count": 5,
   "metadata": {
    "slideshow": {
     "slide_type": "skip"
    }
   },
   "outputs": [
    {
     "data": {
      "image/png": "[encoded data removed]",
      "text/plain": [
       "<Figure size 720x288 with 2 Axes>"
      ]
     },
     "metadata": {
      "needs_background": "light"
     },
     "output_type": "display_data"
    }
   ],
   "source": [
    "fig, ax = plt.subplots(1,2)\n",
    "\n",
    "ax[0].plot(r,label='residual error')\n",
    "ax[0].plot(e,label='reconstruction error')\n",
    "ax[0].set_xlabel('iteration')\n",
    "ax[0].set_ylabel('error')\n",
    "ax[0].set_ylim([0,1])\n",
    "ax[0].set_aspect(niter)\n",
    "ax[0].legend()\n",
    "\n",
    "ax[1].imshow(u_rec.reshape((nx,nx)),extent=(-1,1,1,-1))\n",
    "ax[1].set_xlabel(r'$x$')\n",
    "ax[1].set_ylabel(r'$y$')\n",
    "\n",
    "fig.tight_layout()\n",
    "fig.set_figwidth(10)\n",
    "\n",
    "plt.savefig('./figures/lecture3/richardson_' + str(sigma) + '.png',dpi=300)"
   ]
  },
  {
   "cell_type": "markdown",
   "metadata": {
    "slideshow": {
     "slide_type": "subslide"
    }
   },
   "source": [
    "![](./figures/lecture3/richardson_0.png)"
   ]
  },
  {
   "cell_type": "markdown",
   "metadata": {
    "slideshow": {
     "slide_type": "subslide"
    }
   },
   "source": [
    "![](./figures/lecture3/richardson_0.1.png)"
   ]
  },
  {
   "cell_type": "markdown",
   "metadata": {
    "slideshow": {
     "slide_type": "subslide"
    }
   },
   "source": [
    "## Convergence\n",
    "\n",
    "Convergence to a solution of the normal equations:\n",
    "\n",
    "$$e^{(k+1)} = \\left(I - \\alpha K^T\\!K \\right)e^{(k)},$$\n",
    "\n",
    "so error components corresponding to eigenvalues $\\approx \\alpha^{-1}$ decay fastest."
   ]
  },
  {
   "cell_type": "markdown",
   "metadata": {
    "slideshow": {
     "slide_type": "subslide"
    }
   },
   "source": [
    "Convergence to the true solution:\n",
    "\n",
    "$$e^{(k+1)} = \\left(I - \\alpha K^T\\!K \\right)e^{(k)} - \\alpha K^T\\epsilon.$$\n"
   ]
  },
  {
   "cell_type": "markdown",
   "metadata": {
    "slideshow": {
     "slide_type": "subslide"
    }
   },
   "source": [
    "## Computing the steplength\n",
    "\n",
    "* Determine $\\alpha$ such that the eigenvalues of $\\left(I - \\alpha K^T\\!K \\right)$ are $\\in (-1,1)$\n",
    "* let $\\alpha \\in (0, 2/\\lambda_\\max (K^T\\!K) )$\n",
    "* use that $(K^T\\!K)^k v$ tends to largest eigenvector of $K^T\\!K$ as $k\\rightarrow \\infty$\n",
    "* use $\\|K\\|_2^2 \\leq \\|K\\|_1 \\|K\\|_\\infty$."
   ]
  },
  {
   "cell_type": "markdown",
   "metadata": {
    "slideshow": {
     "slide_type": "slide"
    }
   },
   "source": [
    "# Row-action methods\n",
    "\n",
    "The computational cost of Richardson's method is dominated by the cost of the foward and adjoint Radon transform. Can we work with a single ray at a time?"
   ]
  },
  {
   "cell_type": "markdown",
   "metadata": {
    "slideshow": {
     "slide_type": "subslide"
    }
   },
   "source": [
    "The Kaczmarz method proceeds as follows:\n",
    "\n",
    "$$u^{(k+1)} = u^{(k)} - \\frac{f_i - k_i^Tu^{(k)}}{\\|k_i\\|_2^2} k_i^T,$$\n",
    "\n",
    "with $k_i$ the $i^{\\text{th}}$ row of $K$."
   ]
  },
  {
   "cell_type": "code",
   "execution_count": 9,
   "metadata": {
    "slideshow": {
     "slide_type": "skip"
    }
   },
   "outputs": [],
   "source": [
    "# parameters\n",
    "nx = 26\n",
    "na = 26\n",
    "h = 2/nx\n",
    "s = np.linspace(-1+h/2,1-h/2,nx)\n",
    "theta = np.linspace(0,np.pi,na)\n",
    "sigma = 0.1\n",
    "niter = 10 * nx * na\n",
    "alpha = .5\n",
    "\n",
    "# Phantom\n",
    "u = np.zeros((nx,nx))\n",
    "u[nx//2-nx//6:2*nx//3+nx//7, nx//2-nx//8:2*nx//3+nx//8] = 1\n",
    "u = u.ravel()\n",
    "\n",
    "# Noisy data\n",
    "f = Radon(u, nx, s, theta)\n",
    "f_noisy = f + sigma * np.random.randn(len(f))\n",
    "\n",
    "#  Kacmarz\n",
    "e = np.zeros(niter)\n",
    "u_rec = np.zeros(nx*nx)\n",
    "i = 0\n",
    "for i in range(niter):\n",
    "        # \n",
    "        j = np.mod(i, nx*na)\n",
    "        sj = j % na\n",
    "        tj = j // na\n",
    "        kj = RadonTranspose([1], nx, [s[sj]], [theta[tj]])\n",
    "        \n",
    "        u_rec += kj * (f_noisy[j] - kj.dot(u_rec))/np.linalg.norm(kj)**2\n",
    "\n",
    "        e[i] = np.linalg.norm(u_rec - u)/np.linalg.norm(u)"
   ]
  },
  {
   "cell_type": "code",
   "execution_count": 10,
   "metadata": {
    "slideshow": {
     "slide_type": "skip"
    }
   },
   "outputs": [
    {
     "data": {
      "image/png": "[encoded data removed]",
      "text/plain": [
       "<Figure size 720x288 with 2 Axes>"
      ]
     },
     "metadata": {
      "needs_background": "light"
     },
     "output_type": "display_data"
    }
   ],
   "source": [
    "fig, ax = plt.subplots(1,2)\n",
    "\n",
    "#ax[0].plot(r,label='residual error')\n",
    "ax[0].plot(e,label='reconstruction error')\n",
    "ax[0].set_xlabel('iteration')\n",
    "ax[0].set_ylabel('error')\n",
    "ax[0].set_ylim([0,1])\n",
    "ax[0].set_aspect(niter)\n",
    "ax[0].legend()\n",
    "\n",
    "ax[1].imshow(u_rec.reshape((nx,nx)),extent=(-1,1,1,-1))\n",
    "ax[1].set_xlabel(r'$x$')\n",
    "ax[1].set_ylabel(r'$y$')\n",
    "\n",
    "fig.tight_layout()\n",
    "fig.set_figwidth(10)\n",
    "\n",
    "plt.savefig('./figures/lecture3/kaczmarz_' + str(sigma) + '.png',dpi=300)"
   ]
  },
  {
   "cell_type": "markdown",
   "metadata": {
    "slideshow": {
     "slide_type": "subslide"
    }
   },
   "source": [
    "![](./figures/lecture3/kaczmarz_0.png)"
   ]
  },
  {
   "cell_type": "markdown",
   "metadata": {
    "slideshow": {
     "slide_type": "subslide"
    }
   },
   "source": [
    "![](./figures/lecture3/kaczmarz_0.1.png)"
   ]
  },
  {
   "cell_type": "markdown",
   "metadata": {
    "slideshow": {
     "slide_type": "subslide"
    }
   },
   "source": [
    "## Convergence\n",
    "\n",
    "* Many results when system is consistent\n",
    "* May not converge when system is inconsistent\n",
    "* Relaxed version converges to solution to weighted least-squares problem"
   ]
  }
 ],
 "metadata": {
  "celltoolbar": "Slideshow",
  "kernelspec": {
   "display_name": "Python 3",
   "language": "python",
   "name": "python3"
  },
  "language_info": {
   "codemirror_mode": {
    "name": "ipython",
    "version": 3
   },
   "file_extension": ".py",
   "mimetype": "text/x-python",
   "name": "python",
   "nbconvert_exporter": "python",
   "pygments_lexer": "ipython3",
   "version": "3.8.5"
  }
 },
 "nbformat": 4,
 "nbformat_minor": 4
}
